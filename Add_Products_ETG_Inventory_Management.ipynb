{
 "cells": [
  {
   "cell_type": "markdown",
   "metadata": {},
   "source": [
    "# Creating json File"
   ]
  },
  {
   "cell_type": "code",
   "execution_count": 78,
   "metadata": {},
   "outputs": [],
   "source": [
    "record = {'1001': {'name': 'Choco Cake', 'pr': 80, 'qn': 34},\n",
    "         '1002': {'name': 'Milk Cake', 'pr': 500, 'qn': 100},\n",
    "         '1003': {'name': 'Drink', 'pr': 35, 'qn': 100},\n",
    "         '1004': {'name': 'Candy', 'pr': 5, 'qn': 1000},\n",
    "         '1005': {'name': 'Pen', 'pr': 15, 'qn': 100},\n",
    "         '1006': {'name': 'Rice', 'pr': 120, 'qn': 10},\n",
    "         '1007': {'name': 'wheat', 'pr': 30, 'qn': 0},\n",
    "         '1008': {'name': 'Sugar', 'pr': 38, 'qn': 5},\n",
    "         '1009': {'name': 'tea','pr': 15,'qn': 20}}"
   ]
  },
  {
   "cell_type": "code",
   "execution_count": 146,
   "metadata": {},
   "outputs": [
    {
     "data": {
      "text/plain": [
       "{'1001': {'name': 'Choco Cake', 'pr': 80, 'qn': 34},\n",
       " '1002': {'name': 'Milk Cake', 'pr': 500, 'qn': 100},\n",
       " '1003': {'name': 'Drink', 'pr': 35, 'qn': 100},\n",
       " '1004': {'name': 'Candy', 'pr': 5, 'qn': 1000},\n",
       " '1005': {'name': 'Pen', 'pr': 15, 'qn': 100},\n",
       " '1006': {'name': 'Rice', 'pr': 120, 'qn': 10},\n",
       " '1007': {'name': 'wheat', 'pr': 30, 'qn': 0},\n",
       " '1008': {'name': 'Sugar', 'pr': 38, 'qn': 5},\n",
       " '1009': {'name': 'tea', 'pr': 15, 'qn': 20},\n",
       " 1010: {'name': 'brush', 'pr': 20, 'qn': 100},\n",
       " 1011: {'name': 'ToothPaste', 'pr': 20, 'qn': 30},\n",
       " 1012: {'name': 'Biscuit', 'pr': 30, 'qn': 0},\n",
       " 1013: {'name': 'EdileOil', 'pr': 120, 'qn': 50},\n",
       " 1014: {'name': 'CoconutOil', 'pr': 35, 'qn': 30},\n",
       " 1015: {'name': 'Shampoo', 'pr': 15, 'qn': 30},\n",
       " 1016: {'name': 'Milk', 'pr': 26, 'qn': 60},\n",
       " 1017: {'name': 'ChatMasala', 'pr': 12, 'qn': 50},\n",
       " 1018: {'name': 'ChilliPowder', 'pr': 30, 'qn': 70},\n",
       " 1019: {'name': 'matchstick', 'pr': 1, 'qn': 150},\n",
       " 1020: {'name': 'Salt', 'pr': 40, 'qn': 60},\n",
       " 1021: {'name': 'Bread', 'pr': 20, 'qn': 50},\n",
       " 1022: {'name': 'Ghee', 'pr': 120, 'qn': 20},\n",
       " 1023: {'name': 'ButterMilk', 'pr': 16, 'qn': 40},\n",
       " 1024: {'name': 'Butter', 'pr': 10, 'qn': 50},\n",
       " 1025: {'name': 'Cheese', 'pr': 12, 'qn': 60},\n",
       " 1026: {'name': 'Paneer', 'pr': 38, 'qn': 27},\n",
       " 1027: {'name': 'Lassi', 'pr': 20, 'qn': 0},\n",
       " 1028: {'name': 'Icecream', 'pr': 30, 'qn': 25},\n",
       " 1029: {'name': 'Shrikhand', 'pr': 70, 'qn': 30},\n",
       " 1030: {'name': 'Soup', 'pr': 15, 'qn': 0}}"
      ]
     },
     "execution_count": 146,
     "metadata": {},
     "output_type": "execute_result"
    }
   ],
   "source": [
    "record\n"
   ]
  },
  {
   "cell_type": "code",
   "execution_count": 147,
   "metadata": {},
   "outputs": [],
   "source": [
    "import json"
   ]
  },
  {
   "cell_type": "code",
   "execution_count": 148,
   "metadata": {},
   "outputs": [],
   "source": [
    "js = json.dumps(record)"
   ]
  },
  {
   "cell_type": "code",
   "execution_count": 149,
   "metadata": {},
   "outputs": [
    {
     "data": {
      "text/plain": [
       "'{\"1001\": {\"name\": \"Choco Cake\", \"pr\": 80, \"qn\": 34}, \"1002\": {\"name\": \"Milk Cake\", \"pr\": 500, \"qn\": 100}, \"1003\": {\"name\": \"Drink\", \"pr\": 35, \"qn\": 100}, \"1004\": {\"name\": \"Candy\", \"pr\": 5, \"qn\": 1000}, \"1005\": {\"name\": \"Pen\", \"pr\": 15, \"qn\": 100}, \"1006\": {\"name\": \"Rice\", \"pr\": 120, \"qn\": 10}, \"1007\": {\"name\": \"wheat\", \"pr\": 30, \"qn\": 0}, \"1008\": {\"name\": \"Sugar\", \"pr\": 38, \"qn\": 5}, \"1009\": {\"name\": \"tea\", \"pr\": 15, \"qn\": 20}, \"1010\": {\"name\": \"brush\", \"pr\": 20, \"qn\": 100}, \"1011\": {\"name\": \"ToothPaste\", \"pr\": 20, \"qn\": 30}, \"1012\": {\"name\": \"Biscuit\", \"pr\": 30, \"qn\": 0}, \"1013\": {\"name\": \"EdileOil\", \"pr\": 120, \"qn\": 50}, \"1014\": {\"name\": \"CoconutOil\", \"pr\": 35, \"qn\": 30}, \"1015\": {\"name\": \"Shampoo\", \"pr\": 15, \"qn\": 30}, \"1016\": {\"name\": \"Milk\", \"pr\": 26, \"qn\": 60}, \"1017\": {\"name\": \"ChatMasala\", \"pr\": 12, \"qn\": 50}, \"1018\": {\"name\": \"ChilliPowder\", \"pr\": 30, \"qn\": 70}, \"1019\": {\"name\": \"matchstick\", \"pr\": 1, \"qn\": 150}, \"1020\": {\"name\": \"Salt\", \"pr\": 40, \"qn\": 60}, \"1021\": {\"name\": \"Bread\", \"pr\": 20, \"qn\": 50}, \"1022\": {\"name\": \"Ghee\", \"pr\": 120, \"qn\": 20}, \"1023\": {\"name\": \"ButterMilk\", \"pr\": 16, \"qn\": 40}, \"1024\": {\"name\": \"Butter\", \"pr\": 10, \"qn\": 50}, \"1025\": {\"name\": \"Cheese\", \"pr\": 12, \"qn\": 60}, \"1026\": {\"name\": \"Paneer\", \"pr\": 38, \"qn\": 27}, \"1027\": {\"name\": \"Lassi\", \"pr\": 20, \"qn\": 0}, \"1028\": {\"name\": \"Icecream\", \"pr\": 30, \"qn\": 25}, \"1029\": {\"name\": \"Shrikhand\", \"pr\": 70, \"qn\": 30}, \"1030\": {\"name\": \"Soup\", \"pr\": 15, \"qn\": 0}}'"
      ]
     },
     "execution_count": 149,
     "metadata": {},
     "output_type": "execute_result"
    }
   ],
   "source": [
    "js"
   ]
  },
  {
   "cell_type": "code",
   "execution_count": 150,
   "metadata": {},
   "outputs": [
    {
     "data": {
      "text/plain": [
       "str"
      ]
     },
     "execution_count": 150,
     "metadata": {},
     "output_type": "execute_result"
    }
   ],
   "source": [
    "type(js)"
   ]
  },
  {
   "cell_type": "code",
   "execution_count": 151,
   "metadata": {},
   "outputs": [
    {
     "data": {
      "text/plain": [
       "dict"
      ]
     },
     "execution_count": 151,
     "metadata": {},
     "output_type": "execute_result"
    }
   ],
   "source": [
    "type(record)"
   ]
  },
  {
   "cell_type": "code",
   "execution_count": 152,
   "metadata": {},
   "outputs": [],
   "source": [
    "fd = open('records.json','w')\n",
    "txt = fd.write(js)\n",
    "fd.close()"
   ]
  },
  {
   "cell_type": "code",
   "execution_count": 153,
   "metadata": {},
   "outputs": [],
   "source": [
    "fd = open('records.json','r')\n",
    "txt = fd.read()\n",
    "fd.close()"
   ]
  },
  {
   "cell_type": "code",
   "execution_count": 154,
   "metadata": {},
   "outputs": [
    {
     "data": {
      "text/plain": [
       "'{\"1001\": {\"name\": \"Choco Cake\", \"pr\": 80, \"qn\": 34}, \"1002\": {\"name\": \"Milk Cake\", \"pr\": 500, \"qn\": 100}, \"1003\": {\"name\": \"Drink\", \"pr\": 35, \"qn\": 100}, \"1004\": {\"name\": \"Candy\", \"pr\": 5, \"qn\": 1000}, \"1005\": {\"name\": \"Pen\", \"pr\": 15, \"qn\": 100}, \"1006\": {\"name\": \"Rice\", \"pr\": 120, \"qn\": 10}, \"1007\": {\"name\": \"wheat\", \"pr\": 30, \"qn\": 0}, \"1008\": {\"name\": \"Sugar\", \"pr\": 38, \"qn\": 5}, \"1009\": {\"name\": \"tea\", \"pr\": 15, \"qn\": 20}, \"1010\": {\"name\": \"brush\", \"pr\": 20, \"qn\": 100}, \"1011\": {\"name\": \"ToothPaste\", \"pr\": 20, \"qn\": 30}, \"1012\": {\"name\": \"Biscuit\", \"pr\": 30, \"qn\": 0}, \"1013\": {\"name\": \"EdileOil\", \"pr\": 120, \"qn\": 50}, \"1014\": {\"name\": \"CoconutOil\", \"pr\": 35, \"qn\": 30}, \"1015\": {\"name\": \"Shampoo\", \"pr\": 15, \"qn\": 30}, \"1016\": {\"name\": \"Milk\", \"pr\": 26, \"qn\": 60}, \"1017\": {\"name\": \"ChatMasala\", \"pr\": 12, \"qn\": 50}, \"1018\": {\"name\": \"ChilliPowder\", \"pr\": 30, \"qn\": 70}, \"1019\": {\"name\": \"matchstick\", \"pr\": 1, \"qn\": 150}, \"1020\": {\"name\": \"Salt\", \"pr\": 40, \"qn\": 60}, \"1021\": {\"name\": \"Bread\", \"pr\": 20, \"qn\": 50}, \"1022\": {\"name\": \"Ghee\", \"pr\": 120, \"qn\": 20}, \"1023\": {\"name\": \"ButterMilk\", \"pr\": 16, \"qn\": 40}, \"1024\": {\"name\": \"Butter\", \"pr\": 10, \"qn\": 50}, \"1025\": {\"name\": \"Cheese\", \"pr\": 12, \"qn\": 60}, \"1026\": {\"name\": \"Paneer\", \"pr\": 38, \"qn\": 27}, \"1027\": {\"name\": \"Lassi\", \"pr\": 20, \"qn\": 0}, \"1028\": {\"name\": \"Icecream\", \"pr\": 30, \"qn\": 25}, \"1029\": {\"name\": \"Shrikhand\", \"pr\": 70, \"qn\": 30}, \"1030\": {\"name\": \"Soup\", \"pr\": 15, \"qn\": 0}}'"
      ]
     },
     "execution_count": 154,
     "metadata": {},
     "output_type": "execute_result"
    }
   ],
   "source": [
    "txt"
   ]
  },
  {
   "cell_type": "markdown",
   "metadata": {},
   "source": [
    "# Add new item to inventory"
   ]
  },
  {
   "cell_type": "code",
   "execution_count": 141,
   "metadata": {},
   "outputs": [
    {
     "name": "stdout",
     "output_type": "stream",
     "text": [
      "Enter product id : 1030\n",
      "Enter product name : Soup\n",
      "Enter product price : 15\n",
      "Enter product quantity : 0\n"
     ]
    }
   ],
   "source": [
    "product_id = int(input(\"Enter product id : \"))\n",
    "name = input(\"Enter product name : \")\n",
    "price = int(input(\"Enter product price : \"))\n",
    "quantity = int(input(\"Enter product quantity : \"))\n",
    "record[product_id] = {'name':name,'pr':price,'qn':quantity}\n",
    "\n",
    "js = json.dumps(record)\n",
    "\n",
    "fd = open(\"records.json\",'w')\n",
    "fd.write(js)\n",
    "fd.close()\n",
    "           "
   ]
  },
  {
   "cell_type": "code",
   "execution_count": 142,
   "metadata": {},
   "outputs": [
    {
     "data": {
      "text/plain": [
       "{'1001': {'name': 'Choco Cake', 'pr': 80, 'qn': 34},\n",
       " '1002': {'name': 'Milk Cake', 'pr': 500, 'qn': 100},\n",
       " '1003': {'name': 'Drink', 'pr': 35, 'qn': 100},\n",
       " '1004': {'name': 'Candy', 'pr': 5, 'qn': 1000},\n",
       " '1005': {'name': 'Pen', 'pr': 15, 'qn': 100},\n",
       " '1006': {'name': 'Rice', 'pr': 120, 'qn': 10},\n",
       " '1007': {'name': 'wheat', 'pr': 30, 'qn': 0},\n",
       " '1008': {'name': 'Sugar', 'pr': 38, 'qn': 5},\n",
       " '1009': {'name': 'tea', 'pr': 15, 'qn': 20},\n",
       " 1010: {'name': 'brush', 'pr': 20, 'qn': 100},\n",
       " 1011: {'name': 'ToothPaste', 'pr': 20, 'qn': 30},\n",
       " 1012: {'name': 'Biscuit', 'pr': 30, 'qn': 0},\n",
       " 1013: {'name': 'EdileOil', 'pr': 120, 'qn': 50},\n",
       " 1014: {'name': 'CoconutOil', 'pr': 35, 'qn': 30},\n",
       " 1015: {'name': 'Shampoo', 'pr': 15, 'qn': 30},\n",
       " 1016: {'name': 'Milk', 'pr': 26, 'qn': 60},\n",
       " 1017: {'name': 'ChatMasala', 'pr': 12, 'qn': 50},\n",
       " 1018: {'name': 'ChilliPowder', 'pr': 30, 'qn': 70},\n",
       " 1019: {'name': 'matchstick', 'pr': 1, 'qn': 150},\n",
       " 1020: {'name': 'Salt', 'pr': 40, 'qn': 60},\n",
       " 1021: {'name': 'Bread', 'pr': 20, 'qn': 50},\n",
       " 1022: {'name': 'Ghee', 'pr': 120, 'qn': 20},\n",
       " 1023: {'name': 'ButterMilk', 'pr': 16, 'qn': 40},\n",
       " 1024: {'name': 'Butter', 'pr': 10, 'qn': 50},\n",
       " 1025: {'name': 'Cheese', 'pr': 12, 'qn': 60},\n",
       " 1026: {'name': 'Paneer', 'pr': 38, 'qn': 27},\n",
       " 1027: {'name': 'Lassi', 'pr': 20, 'qn': 0},\n",
       " 1028: {'name': 'Icecream', 'pr': 30, 'qn': 25},\n",
       " 1029: {'name': 'Shrikhand', 'pr': 70, 'qn': 30},\n",
       " 1030: {'name': 'Soup', 'pr': 15, 'qn': 0}}"
      ]
     },
     "execution_count": 142,
     "metadata": {},
     "output_type": "execute_result"
    }
   ],
   "source": [
    "record"
   ]
  },
  {
   "cell_type": "code",
   "execution_count": 143,
   "metadata": {},
   "outputs": [],
   "source": [
    "key = record.keys()"
   ]
  },
  {
   "cell_type": "code",
   "execution_count": 144,
   "metadata": {},
   "outputs": [],
   "source": [
    "value = record.values()"
   ]
  },
  {
   "cell_type": "markdown",
   "metadata": {},
   "source": [
    "# Print all product names"
   ]
  },
  {
   "cell_type": "code",
   "execution_count": 145,
   "metadata": {},
   "outputs": [
    {
     "name": "stdout",
     "output_type": "stream",
     "text": [
      "Choco Cake\n",
      "\n",
      "Milk Cake\n",
      "\n",
      "Drink\n",
      "\n",
      "Candy\n",
      "\n",
      "Pen\n",
      "\n",
      "Rice\n",
      "\n",
      "wheat\n",
      "Product temporarily unavailable\n",
      "\n",
      "Sugar\n",
      "\n",
      "tea\n",
      "\n",
      "brush\n",
      "\n",
      "ToothPaste\n",
      "\n",
      "Biscuit\n",
      "Product temporarily unavailable\n",
      "\n",
      "EdileOil\n",
      "\n",
      "CoconutOil\n",
      "\n",
      "Shampoo\n",
      "\n",
      "Milk\n",
      "\n",
      "ChatMasala\n",
      "\n",
      "ChilliPowder\n",
      "\n",
      "matchstick\n",
      "\n",
      "Salt\n",
      "\n",
      "Bread\n",
      "\n",
      "Ghee\n",
      "\n",
      "ButterMilk\n",
      "\n",
      "Butter\n",
      "\n",
      "Cheese\n",
      "\n",
      "Paneer\n",
      "\n",
      "Lassi\n",
      "Product temporarily unavailable\n",
      "\n",
      "Icecream\n",
      "\n",
      "Shrikhand\n",
      "\n",
      "Soup\n",
      "Product temporarily unavailable\n",
      "\n"
     ]
    }
   ],
   "source": [
    "for i in key:\n",
    "    if(record[i]['qn']>0):\n",
    "        print(record[i]['name'])\n",
    "        print()\n",
    "    else:\n",
    "        print(record[i]['name'])\n",
    "        print(\"Product temporarily unavailable\")\n",
    "        print()\n",
    "    "
   ]
  },
  {
   "cell_type": "code",
   "execution_count": null,
   "metadata": {},
   "outputs": [],
   "source": []
  }
 ],
 "metadata": {
  "kernelspec": {
   "display_name": "Python 3",
   "language": "python",
   "name": "python3"
  },
  "language_info": {
   "codemirror_mode": {
    "name": "ipython",
    "version": 3
   },
   "file_extension": ".py",
   "mimetype": "text/x-python",
   "name": "python",
   "nbconvert_exporter": "python",
   "pygments_lexer": "ipython3",
   "version": "3.8.3"
  }
 },
 "nbformat": 4,
 "nbformat_minor": 4
}
